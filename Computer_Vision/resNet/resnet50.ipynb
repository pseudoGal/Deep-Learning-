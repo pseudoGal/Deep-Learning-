{
  "nbformat": 4,
  "nbformat_minor": 0,
  "metadata": {
    "colab": {
      "name": "resnet50.ipynb",
      "provenance": []
    },
    "kernelspec": {
      "name": "python3",
      "display_name": "Python 3"
    },
    "language_info": {
      "name": "python"
    },
    "accelerator": "GPU"
  },
  "cells": [
    {
      "cell_type": "code",
      "metadata": {
        "id": "dMXuT4u6S2TR"
      },
      "source": [
        "from tensorflow.keras.applications.resnet50 import ResNet50\n",
        "from tensorflow.keras.preprocessing import image\n",
        "from tensorflow.keras.applications.resnet50 import preprocess_input, decode_predictions\n",
        "import numpy as np"
      ],
      "execution_count": 1,
      "outputs": []
    },
    {
      "cell_type": "code",
      "metadata": {
        "id": "-UuBQ_rqS-WU"
      },
      "source": [
        "model = ResNet50(weights='imagenet')\n",
        "\n",
        "img_path = '/content/glass.jpeg'\n",
        "img = image.load_img(img_path, target_size=(224, 224))\n",
        "x = image.img_to_array(img)\n",
        "x = np.expand_dims(x, axis=0)\n",
        "x = preprocess_input(x)"
      ],
      "execution_count": 3,
      "outputs": []
    },
    {
      "cell_type": "code",
      "metadata": {
        "colab": {
          "base_uri": "https://localhost:8080/"
        },
        "id": "PAT48Ar-TA0C",
        "outputId": "e0ec0ec7-a29f-4b29-b381-65793370c657"
      },
      "source": [
        "\n",
        "preds = model.predict(x)\n",
        "\n",
        "print('Predicted:', decode_predictions(preds, top=10)[0])\n"
      ],
      "execution_count": 4,
      "outputs": [
        {
          "output_type": "stream",
          "text": [
            "Downloading data from https://storage.googleapis.com/download.tensorflow.org/data/imagenet_class_index.json\n",
            "40960/35363 [==================================] - 0s 0us/step\n",
            "49152/35363 [=========================================] - 0s 0us/step\n",
            "Predicted: [('n07932039', 'eggnog', 0.6375871), ('n07920052', 'espresso', 0.199919), ('n07930864', 'cup', 0.052771166), ('n07614500', 'ice_cream', 0.028146096), ('n02823750', 'beer_glass', 0.017816614), ('n07613480', 'trifle', 0.012000826), ('n04263257', 'soup_bowl', 0.008783685), ('n07584110', 'consomme', 0.008673334), ('n07697313', 'cheeseburger', 0.006579279), ('n07836838', 'chocolate_sauce', 0.0043555317)]\n"
          ],
          "name": "stdout"
        }
      ]
    }
  ]
}
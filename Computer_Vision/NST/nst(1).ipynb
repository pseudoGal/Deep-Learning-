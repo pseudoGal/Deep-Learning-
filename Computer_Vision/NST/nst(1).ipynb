{
  "nbformat": 4,
  "nbformat_minor": 0,
  "metadata": {
    "colab": {
      "name": "nst.ipynb",
      "private_outputs": true,
      "provenance": []
    },
    "kernelspec": {
      "name": "python3",
      "display_name": "Python 3"
    },
    "language_info": {
      "name": "python"
    }
  },
  "cells": [
    {
      "cell_type": "markdown",
      "source": [
        "\n",
        "NST: Neural Style Transfer\n",
        "                    \n",
        "\n",
        "\n"
      ],
      "metadata": {
        "id": "dvepMvK7zV5N"
      }
    },
    {
      "cell_type": "markdown",
      "source": [
        "\n",
        "\n",
        "Ever thought Neural Network can mimic your own style of painting?\n",
        "\n",
        "Neural style transfer aka NST's are remarkably great at creating digital art piece just like you!! Checkout the quick Implementation.\n",
        "\n",
        "Note: Do refer the original paper for NST architecture and further understanding :p\n",
        "\n",
        "In this notebook, I have applied my own painting style to Sophie's Image(A cat). You could try it with any image of your choice.[link text](https://) \n",
        "\n",
        "For reference, I have used two images, \n",
        "\n",
        "Content image: Sophie's Image(Cats image as a content image) and \n",
        "Style image: Ballet Dancer(Art piece created by me as a style image) \n",
        "\n"
      ],
      "metadata": {
        "id": "YSXznFnLzWKv"
      }
    },
    {
      "cell_type": "code",
      "source": [
        "%tensorflow_version 2.x\n",
        " \n",
        "from __future__ import absolute_import, division, print_function, unicode_literals\n",
        "import tensorflow as tf\n",
        "print(tf.__version__)\n",
        " \n",
        "import IPython.display as display\n",
        " \n",
        "import matplotlib.pyplot as plt\n",
        "import matplotlib as mpl\n",
        "mpl.rcParams['figure.figsize'] = (20,20)\n",
        "mpl.rcParams['axes.grid'] = False\n",
        " \n",
        "import numpy as np\n",
        "import PIL.Image\n",
        "import time\n",
        "import functools\n"
      ],
      "metadata": {
        "id": "L7Hl6GHoT4eC",
        "collapsed": true
      },
      "execution_count": null,
      "outputs": []
    },
    {
      "cell_type": "code",
      "source": [
        " \n",
        "def tensor_to_image(tensor):\n",
        "  tensor = tensor*255\n",
        "  tensor = np.array(tensor, dtype=np.uint8)\n",
        "  if np.ndim(tensor)>3:\n",
        "    assert tensor.shape[0] == 1\n",
        "    tensor = tensor[0]\n",
        "  return PIL.Image.fromarray(tensor)\n",
        " \n",
        " \n",
        "# Visualize the input\n",
        "# Define a function to load an image and limit its maximum dimension to 512 pixels.\n",
        " \n",
        "def load_img(path_to_img):\n",
        "  max_dim = 512\n",
        "  img = tf.io.read_file(path_to_img)\n",
        "  img = tf.image.decode_image(img, channels=3)\n",
        "  img = tf.image.convert_image_dtype(img, tf.float32)\n",
        " \n",
        "  shape = tf.cast(tf.shape(img)[:-1], tf.float32)\n",
        "  long_dim = max(shape)\n",
        "  scale = max_dim / long_dim\n",
        " \n",
        "  new_shape = tf.cast(shape * scale, tf.int32)\n",
        " \n",
        "  img = tf.image.resize(img, new_shape)\n",
        "  img = img[tf.newaxis, :]\n",
        "  return img\n",
        " \n",
        " \n",
        " \n",
        "# Create a simple function to display an image:\n",
        " \n",
        "def imshow(image, title=None):\n",
        "  if len(image.shape) > 3:\n",
        "    image = tf.squeeze(image, axis=0)\n",
        " \n",
        "  plt.imshow(image)\n",
        "  if title:\n",
        "    plt.title(title)\n",
        " \n",
        " \n",
        "#choose a style image and a content image:\n",
        " #/content/Sophie_content_image10.png\n",
        " content_path = '/content/Sophie_content_image3.png'\n",
        " \n",
        " style_path = '/content/style_image_BalletDancer.jpg'\n",
        "\n",
        "content_image = load_img(content_path)\n",
        "style_image = load_img(style_path)\n",
        " \n",
        "plt.subplot(1, 2, 1)\n",
        "imshow(content_image, 'Content Image')\n",
        " \n",
        "plt.subplot(1, 2, 2)\n",
        "imshow(style_image, 'Style Image')\n",
        "   "
      ],
      "metadata": {
        "id": "ZRw04v43T4yk"
      },
      "execution_count": null,
      "outputs": []
    },
    {
      "cell_type": "code",
      "source": [
        "# Use the TensorFlow Hub\n",
        "import tensorflow_hub as hub\n",
        "hub_module = hub.load('https://tfhub.dev/google/magenta/arbitrary-image-stylization-v1-256/1')\n",
        "stylized_image = hub_module(tf.constant(content_image), tf.constant(style_image))[0]\n",
        "tensor_to_image(stylized_image)\n",
        "  \n",
        "\n"
      ],
      "metadata": {
        "id": "2nxu8vB5UFGy"
      },
      "execution_count": null,
      "outputs": []
    },
    {
      "cell_type": "code",
      "source": [
        "hub_module = hub.load('https://tfhub.dev/google/magenta/arbitrary-image-stylization-v1-256/2')\n",
        "\n",
        "stylized_image = hub_module(tf.constant(content_image), tf.constant(style_image))[0]\n",
        "tensor_to_image(stylized_image)\n",
        "\n"
      ],
      "metadata": {
        "id": "4H00t0jMU9fG"
      },
      "execution_count": null,
      "outputs": []
    },
    {
      "cell_type": "code",
      "source": [
        "hub_module = hub.load('https://tfhub.dev/google/magenta/arbitrary-image-stylization-v1-256/2')\n",
        "\n",
        "stylized_image = hub_module(tf.constant(content_image), tf.constant(style_image))[0]\n",
        "tensor_to_image(stylized_image)\n"
      ],
      "metadata": {
        "id": "FXpLkxehW8uh"
      },
      "execution_count": null,
      "outputs": []
    },
    {
      "cell_type": "code",
      "source": [
        ""
      ],
      "metadata": {
        "id": "f03isHj2XZlR"
      },
      "execution_count": null,
      "outputs": []
    }
  ]
}
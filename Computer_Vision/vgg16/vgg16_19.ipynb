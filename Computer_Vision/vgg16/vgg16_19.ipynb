{
  "nbformat": 4,
  "nbformat_minor": 0,
  "metadata": {
    "colab": {
      "name": "vgg16_19.ipynb",
      "provenance": [],
      "collapsed_sections": []
    },
    "kernelspec": {
      "name": "python3",
      "display_name": "Python 3"
    },
    "language_info": {
      "name": "python"
    },
    "accelerator": "GPU"
  },
  "cells": [
    {
      "cell_type": "code",
      "metadata": {
        "id": "dMXuT4u6S2TR"
      },
      "source": [
        "from tensorflow.keras.preprocessing import image\n",
        "from tensorflow.keras.applications.vgg16 import VGG16\n",
        "from tensorflow.keras.applications.vgg16 import preprocess_input\n",
        "import numpy as np"
      ],
      "execution_count": 6,
      "outputs": []
    },
    {
      "cell_type": "code",
      "metadata": {
        "colab": {
          "base_uri": "https://localhost:8080/"
        },
        "id": "-UuBQ_rqS-WU",
        "outputId": "2a70e70f-3661-4868-d62d-844335148266"
      },
      "source": [
        "\n",
        "#model = VGG16(weights='imagenet', include_top=False)\n",
        "model = VGG16(weights='imagenet')\n",
        "\n",
        "#img_path = ''\n",
        "\n",
        "img_path = '/content/cat.jpeg'\n",
        "\n",
        "img = image.load_img(img_path, target_size=(224, 224))\n",
        "x = image.img_to_array(img)\n",
        "x = np.expand_dims(x, axis=0)\n",
        "x = preprocess_input(x)\n",
        "\n",
        "features = model.predict(x)\n",
        "print('Predicted :',decode_predictions(features, top=5)[0])"
      ],
      "execution_count": 7,
      "outputs": [
        {
          "output_type": "stream",
          "text": [
            "Predicted : [('n03207941', 'dishwasher', 0.19648525), ('n02124075', 'Egyptian_cat', 0.12154894), ('n04265275', 'space_heater', 0.050214406), ('n02123045', 'tabby', 0.036323383), ('n03958227', 'plastic_bag', 0.029566212)]\n"
          ],
          "name": "stdout"
        }
      ]
    },
    {
      "cell_type": "code",
      "metadata": {
        "id": "dfEHsf8XWqzD"
      },
      "source": [
        "#Extract features from an arbitrary intermediate layer with VGG19\n",
        "\n",
        "\n",
        "from tensorflow.keras.applications.vgg19 import VGG19\n",
        "from tensorflow.keras.preprocessing import image\n",
        "from tensorflow.keras.applications.vgg19 import preprocess_input\n",
        "from tensorflow.keras.models import Model\n"
      ],
      "execution_count": 9,
      "outputs": []
    },
    {
      "cell_type": "code",
      "metadata": {
        "id": "60fIofObWkU4"
      },
      "source": [
        "base_model = VGG19(weights='imagenet')\n",
        "model = Model(inputs=base_model.input, outputs=base_model.get_layer('block4_pool').output)\n",
        "\n",
        "\n",
        "img_path = '/content/cat.jpeg'\n",
        "img = image.load_img(img_path, target_size=(224, 224))\n",
        "x = image.img_to_array(img)\n",
        "x = np.expand_dims(x, axis=0)\n",
        "x = preprocess_input(x)\n",
        "\n",
        "block4_pool_features = model.predict(x)\n",
        "#print(block4_pool_features[0])\n",
        "#print('Predicted :',decode_predictions(block4_pool_features, top=4)[0])"
      ],
      "execution_count": 14,
      "outputs": []
    },
    {
      "cell_type": "code",
      "metadata": {
        "id": "NUUXowWsWk-l"
      },
      "source": [
        ""
      ],
      "execution_count": null,
      "outputs": []
    }
  ]
}
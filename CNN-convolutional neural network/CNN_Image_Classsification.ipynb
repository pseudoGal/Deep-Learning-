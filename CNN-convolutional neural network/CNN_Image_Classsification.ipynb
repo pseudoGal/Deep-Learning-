{
  "nbformat": 4,
  "nbformat_minor": 0,
  "metadata": {
    "colab": {
      "name": "CNN-Image_Classsification.ipynb",
      "private_outputs": true,
      "provenance": [],
      "collapsed_sections": []
    },
    "kernelspec": {
      "name": "python3",
      "display_name": "Python 3"
    },
    "language_info": {
      "name": "python"
    }
  },
  "cells": [
    {
      "cell_type": "code",
      "metadata": {
        "id": "KSE7EInAEBH2"
      },
      "source": [
        "# -*- coding: utf-8 -*-\n",
        "\"\"\"\n",
        "Image Classifier using VGG16\n",
        "\n",
        "@author: Pratiksha\n",
        "\"\"\"\n",
        "\n",
        "\n",
        "\"\"\"\n",
        "keras provides an Applications interface for loading and \n",
        "using pre-trained models.\n",
        "Will classify new images using the VGG model. Keras\n",
        "provides both the 16-layer and 19-layer version via the VGG16 and VGG19 classes.\n",
        "\"\"\"\n",
        "\n",
        "from keras.applications.vgg16 import VGG16\n",
        "model = VGG16()\n",
        "model.summary()"
      ],
      "execution_count": null,
      "outputs": []
    },
    {
      "cell_type": "code",
      "metadata": {
        "id": "R_kokg0-Eq27"
      },
      "source": [
        "from keras.utils.vis_utils import plot_model\n",
        "plot_model(model, to_file='vgg.png')"
      ],
      "execution_count": null,
      "outputs": []
    },
    {
      "cell_type": "code",
      "metadata": {
        "id": "DAXzGB7aFMX4"
      },
      "source": [
        "from keras.preprocessing.image import load_img \n",
        "from keras.preprocessing.image import img_to_array\n",
        "from keras.applications.vgg16 import preprocess_input\n",
        "from keras.applications.vgg16 import decode_predictions\n",
        "from keras.applications.vgg16 import VGG16"
      ],
      "execution_count": null,
      "outputs": []
    },
    {
      "cell_type": "code",
      "metadata": {
        "id": "O8rIBO4LhGzS"
      },
      "source": [
        "model = VGG16()\n",
        "\n",
        "image = load_img('/content/cup.jpeg', target_size=(224,224))\n",
        "image = img_to_array(image)\n",
        "image = image.reshape((1, image.shape[0], image.shape[1], image.shape[2]))\n",
        "\n",
        "\n",
        "image = preprocess_input(image)\n",
        "yhat = model.predict(image)\n",
        "label = decode_predictions(yhat)\n",
        "\n",
        "label = label[0][0]"
      ],
      "execution_count": null,
      "outputs": []
    },
    {
      "cell_type": "code",
      "metadata": {
        "id": "-aIUZb_XkqpR"
      },
      "source": [
        "print('%s (%.2f%%)' % (label[1],label[2]*100))"
      ],
      "execution_count": null,
      "outputs": []
    },
    {
      "cell_type": "code",
      "metadata": {
        "id": "9H2QC5WGnGvX"
      },
      "source": [
        "model = VGG16()\n",
        "\n",
        "image = load_img('/content/glass.jpeg', target_size=(224,224))\n",
        "image = img_to_array(image)\n",
        "image = image.reshape((1, image.shape[0], image.shape[1], image.shape[2]))\n",
        "\n",
        "\n",
        "image = preprocess_input(image)\n",
        "yhat = model.predict(image)\n",
        "label = decode_predictions(yhat)\n",
        "\n",
        "label = label[0][0]"
      ],
      "execution_count": null,
      "outputs": []
    },
    {
      "cell_type": "code",
      "metadata": {
        "id": "9GozoASNpbvI"
      },
      "source": [
        "print('%s (%.2f%%)' % (label[1],label[2]*100))"
      ],
      "execution_count": null,
      "outputs": []
    },
    {
      "cell_type": "code",
      "metadata": {
        "id": "FmXAqT6gpg95"
      },
      "source": [
        ""
      ],
      "execution_count": null,
      "outputs": []
    }
  ]
}